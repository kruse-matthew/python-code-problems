{
 "cells": [
  {
   "cell_type": "code",
   "execution_count": 1,
   "metadata": {},
   "outputs": [
    {
     "name": "stdout",
     "output_type": "stream",
     "text": [
      "The word racecar is a palindrome.\n",
      "The word boat is not a palindrome.\n"
     ]
    }
   ],
   "source": [
    "# Code Question: Write a function that can check for a palindrome\n",
    "\n",
    "test_string_true = \"racecar\"\n",
    "test_string_false = \"boat\"\n",
    "\n",
    "def is_word_a_palindrome(word: str) -> bool:\n",
    "    # Checks to see if a word is a palindrome\n",
    "\n",
    "    reversed_word = word[::-1]\n",
    "    return word == reversed_word\n",
    "\n",
    "def test_results(word: str) -> str:\n",
    "    if is_word_a_palindrome(word):\n",
    "        print(f\"The word {word} is a palindrome.\")\n",
    "    else:\n",
    "        print(f\"The word {word} is not a palindrome.\")\n",
    "\n",
    "test_results(test_string_true)\n",
    "test_results(test_string_false)"
   ]
  }
 ],
 "metadata": {
  "kernelspec": {
   "display_name": "Python 3",
   "language": "python",
   "name": "python3"
  },
  "language_info": {
   "codemirror_mode": {
    "name": "ipython",
    "version": 3
   },
   "file_extension": ".py",
   "mimetype": "text/x-python",
   "name": "python",
   "nbconvert_exporter": "python",
   "pygments_lexer": "ipython3",
   "version": "3.8.2"
  }
 },
 "nbformat": 4,
 "nbformat_minor": 2
}
