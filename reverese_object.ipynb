{
 "cells": [
  {
   "cell_type": "code",
   "execution_count": 2,
   "metadata": {},
   "outputs": [
    {
     "name": "stdout",
     "output_type": "stream",
     "text": [
      "The reverse of '.dekrow gnirts siht fo esrever ehT' is 'The reverse of this string worked.'\n",
      "The reverse of '['c', 'b', 'a']' is '['a', 'b', 'c']'\n"
     ]
    }
   ],
   "source": [
    "# Code Question: Write a function that can reverse a string and a list.\n",
    "\n",
    "test_string = \".dekrow gnirts siht fo esrever ehT\"\n",
    "test_list = [\"c\", \"b\", \"a\"]\n",
    "\n",
    "def reverse(input):\n",
    "    # Reverses the input\n",
    "\n",
    "    result = input[::-1]\n",
    "    return result\n",
    "\n",
    "def test_results(input):\n",
    "    print(f\"The reverse of '{input}' is '{reverse(input)}'\")\n",
    "\n",
    "test_results(test_string)\n",
    "test_results(test_list)"
   ]
  }
 ],
 "metadata": {
  "kernelspec": {
   "display_name": "Python 3",
   "language": "python",
   "name": "python3"
  },
  "language_info": {
   "codemirror_mode": {
    "name": "ipython",
    "version": 3
   },
   "file_extension": ".py",
   "mimetype": "text/x-python",
   "name": "python",
   "nbconvert_exporter": "python",
   "pygments_lexer": "ipython3",
   "version": "3.8.2"
  }
 },
 "nbformat": 4,
 "nbformat_minor": 2
}
